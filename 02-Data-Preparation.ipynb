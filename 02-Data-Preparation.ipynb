{
 "cells": [
  {
   "cell_type": "markdown",
   "metadata": {},
   "source": [
    "## Data Preparation for U-net\n",
    "\n",
    "Crop to 256x256 chunks and split randomly into train, validation and holdout set."
   ]
  },
  {
   "cell_type": "code",
   "execution_count": 77,
   "metadata": {
    "collapsed": true
   },
   "outputs": [],
   "source": [
    "from __future__ import print_function\n",
    "from scipy import misc\n",
    "\n",
    "import cv2\n",
    "import os\n",
    "import numpy as np"
   ]
  },
  {
   "cell_type": "code",
   "execution_count": 121,
   "metadata": {
    "collapsed": true
   },
   "outputs": [],
   "source": [
    "def reshape_and_normalize_mask(mask):\n",
    "    \n",
    "    shape0 = mask.shape[0]//256 * 256\n",
    "    shape1 = mask.shape[1]//256 * 256\n",
    "    \n",
    "    # get both to a shape divisible by 32\n",
    "\n",
    "    mask = mask[:shape0, :shape1, :]\n",
    "    \n",
    "    # rescale all numbers between 0 and 1\n",
    "    mask = mask.astype('float32')\n",
    "\n",
    "    for i in range(mask.shape[2]):\n",
    "        mask[:, :, i] = (mask[:, :, i] - mask[:, :, i].min())/ \\\n",
    "                                    (mask[:, :, i].max() - mask[:, :, i].min())\n",
    "        \n",
    "    return mask    \n",
    "\n",
    "def crop256_and_train_valid_split(stacked, mask, filename):\n",
    "    \n",
    "    stacked = np.load(stacked)\n",
    "    mask = np.load(mask)\n",
    "    \n",
    "    stacked = reshape_and_normalize_face(stacked)\n",
    "    mask = reshape_and_normalize_mask(mask)\n",
    "    \n",
    "    size_crop = 256\n",
    "    i = 0\n",
    "    j = 0\n",
    "    \n",
    "    masks = []\n",
    "    imgs = []\n",
    "\n",
    "    for i in range(0, stacked.shape[0], size_crop):\n",
    "        for j in range(0, stacked.shape[1], size_crop):\n",
    "            m = mask[i:i+size_crop, j:j+size_crop,:]\n",
    "            image = stacked[i:i+size_crop, j:j+size_crop, :]\n",
    "            masks.append(m)\n",
    "            imgs.append(image)\n",
    "    \n",
    "    np.random.seed(10)\n",
    "    indices = np.arange(len(masks))\n",
    "    np.random.shuffle(indices)\n",
    "\n",
    "    i = 0\n",
    "\n",
    "    # first 70% of shuffled into train\n",
    "    p70 = int(.7*len(indices))\n",
    "    p90 = int(.9*len(indices))\n",
    "\n",
    "    # 70% in train\n",
    "    for num in indices[:p70]:\n",
    "        img_num = i\n",
    "        np.save('/home/RGD/cleannpy/normalized/train/masks/' + filename+ '_' + str(img_num), masks[num])\n",
    "        np.save('/home/RGD/cleannpy/normalized/train/imgs/'+ filename+ '_' + str(img_num), imgs[num])\n",
    "        i +=1\n",
    "    print('train complete')\n",
    "    # 20% in test\n",
    "    for num in indices[p70:p90]:\n",
    "        img_num = i\n",
    "        np.save('/home/RGD/cleannpy/normalized/validation/masks/'+ filename+ '_' + str(img_num), masks[num])\n",
    "        np.save('/home/RGD/cleannpy/normalized/validation/imgs/'+ filename+ '_' + str(img_num), imgs[num])\n",
    "        i +=1\n",
    "    print('valid complete')\n",
    "    # 10% to holdout\n",
    "    for num in indices[p90:]:\n",
    "        img_num = i\n",
    "        np.save('/home/RGD/cleannpy/normalized/holdout/masks/'+ filename+ '_' + str(img_num), masks[num])\n",
    "        np.save('/home/RGD/cleannpy/normalized/holdout/imgs/'+ filename+ '_' + str(img_num), imgs[num])\n",
    "        i +=1\n",
    "    print('holdout complete')"
   ]
  },
  {
   "cell_type": "code",
   "execution_count": 88,
   "metadata": {
    "collapsed": true
   },
   "outputs": [],
   "source": [
    "new_path='/home/RGD/cleannpy/fullsize_unnormalized'"
   ]
  },
  {
   "cell_type": "code",
   "execution_count": 89,
   "metadata": {
    "collapsed": true
   },
   "outputs": [],
   "source": [
    "pathlist = os.listdir(new_path)"
   ]
  },
  {
   "cell_type": "code",
   "execution_count": 91,
   "metadata": {
    "collapsed": true
   },
   "outputs": [],
   "source": [
    "fullpathface = sorted([os.path.join(new_path,x) for x in pathlist if 'Face' in x])\n",
    "fullpathmask = sorted([os.path.join(new_path,x) for x in pathlist if 'Mask' in x])"
   ]
  },
  {
   "cell_type": "code",
   "execution_count": 95,
   "metadata": {},
   "outputs": [
    {
     "data": {
      "text/plain": [
       "['/home/RGD/cleannpy/fullsize_unnormalized/Face_0000086.npy',\n",
       " '/home/RGD/cleannpy/fullsize_unnormalized/Face_0000130.npy',\n",
       " '/home/RGD/cleannpy/fullsize_unnormalized/Face_0000182.npy',\n",
       " '/home/RGD/cleannpy/fullsize_unnormalized/Face_0000229.npy',\n",
       " '/home/RGD/cleannpy/fullsize_unnormalized/Face_0000274.npy',\n",
       " '/home/RGD/cleannpy/fullsize_unnormalized/Face_0000323.npy',\n",
       " '/home/RGD/cleannpy/fullsize_unnormalized/Face_0000368.npy',\n",
       " '/home/RGD/cleannpy/fullsize_unnormalized/Face_0000418.npy',\n",
       " '/home/RGD/cleannpy/fullsize_unnormalized/Face_0000463.npy',\n",
       " '/home/RGD/cleannpy/fullsize_unnormalized/Face_0000509.npy']"
      ]
     },
     "execution_count": 95,
     "metadata": {},
     "output_type": "execute_result"
    }
   ],
   "source": [
    "fullpathface"
   ]
  },
  {
   "cell_type": "code",
   "execution_count": 105,
   "metadata": {},
   "outputs": [
    {
     "data": {
      "text/plain": [
       "['/home/RGD/cleannpy/fullsize_unnormalized/Mask_0000086.npy',\n",
       " '/home/RGD/cleannpy/fullsize_unnormalized/Mask_0000130.npy',\n",
       " '/home/RGD/cleannpy/fullsize_unnormalized/Mask_0000182.npy',\n",
       " '/home/RGD/cleannpy/fullsize_unnormalized/Mask_0000229.npy',\n",
       " '/home/RGD/cleannpy/fullsize_unnormalized/Mask_0000274.npy',\n",
       " '/home/RGD/cleannpy/fullsize_unnormalized/Mask_0000323.npy',\n",
       " '/home/RGD/cleannpy/fullsize_unnormalized/Mask_0000368.npy',\n",
       " '/home/RGD/cleannpy/fullsize_unnormalized/Mask_0000418.npy',\n",
       " '/home/RGD/cleannpy/fullsize_unnormalized/Mask_0000463.npy',\n",
       " '/home/RGD/cleannpy/fullsize_unnormalized/Mask_0000509.npy']"
      ]
     },
     "execution_count": 105,
     "metadata": {},
     "output_type": "execute_result"
    }
   ],
   "source": [
    "fullpathmask"
   ]
  },
  {
   "cell_type": "code",
   "execution_count": 111,
   "metadata": {
    "collapsed": true
   },
   "outputs": [],
   "source": [
    "facenamelist = [x[-7:-4] for x in fullpathface]"
   ]
  },
  {
   "cell_type": "code",
   "execution_count": 112,
   "metadata": {
    "collapsed": true
   },
   "outputs": [],
   "source": [
    "masknamelist = [x[-7:-4] for x in fullpathmask]"
   ]
  },
  {
   "cell_type": "code",
   "execution_count": 92,
   "metadata": {},
   "outputs": [
    {
     "data": {
      "text/plain": [
       "10"
      ]
     },
     "execution_count": 92,
     "metadata": {},
     "output_type": "execute_result"
    }
   ],
   "source": [
    "len(fullpathface)"
   ]
  },
  {
   "cell_type": "code",
   "execution_count": 93,
   "metadata": {},
   "outputs": [
    {
     "data": {
      "text/plain": [
       "10"
      ]
     },
     "execution_count": 93,
     "metadata": {},
     "output_type": "execute_result"
    }
   ],
   "source": [
    "len(fullpathmask)"
   ]
  },
  {
   "cell_type": "code",
   "execution_count": 101,
   "metadata": {},
   "outputs": [
    {
     "data": {
      "text/plain": [
       "10"
      ]
     },
     "execution_count": 101,
     "metadata": {},
     "output_type": "execute_result"
    }
   ],
   "source": [
    "len(namelist)"
   ]
  },
  {
   "cell_type": "code",
   "execution_count": 122,
   "metadata": {
    "scrolled": true
   },
   "outputs": [
    {
     "name": "stdout",
     "output_type": "stream",
     "text": [
      "train complete\n",
      "valid complete\n",
      "holdout complete\n",
      "Face_0000086\n",
      "Mask_0000086done\n",
      "train complete\n",
      "valid complete\n",
      "holdout complete\n",
      "Face_0000130\n",
      "Mask_0000130done\n",
      "train complete\n",
      "valid complete\n",
      "holdout complete\n",
      "Face_0000182\n",
      "Mask_0000182done\n",
      "train complete\n",
      "valid complete\n",
      "holdout complete\n",
      "Face_0000229\n",
      "Mask_0000229done\n",
      "train complete\n",
      "valid complete\n",
      "holdout complete\n",
      "Face_0000274\n",
      "Mask_0000274done\n",
      "train complete\n",
      "valid complete\n",
      "holdout complete\n",
      "Face_0000323\n",
      "Mask_0000323done\n",
      "train complete\n",
      "valid complete\n",
      "holdout complete\n",
      "Face_0000368\n",
      "Mask_0000368done\n",
      "train complete\n",
      "valid complete\n",
      "holdout complete\n",
      "Face_0000418\n",
      "Mask_0000418done\n",
      "train complete\n",
      "valid complete\n",
      "holdout complete\n",
      "Face_0000463\n",
      "Mask_0000463done\n",
      "train complete\n",
      "valid complete\n",
      "holdout complete\n",
      "Face_0000509\n",
      "Mask_0000509done\n"
     ]
    }
   ],
   "source": [
    "for i,j,k in zip(fullpathface,fullpathmask,facenamelist):\n",
    "    crop256_and_train_valid_split(i,j,k)\n",
    "    print(i[-16:-4]+'\\n'+ j[-16:-4] + 'done')"
   ]
  }
 ],
 "metadata": {
  "kernelspec": {
   "display_name": "Python 3",
   "language": "python",
   "name": "python3"
  },
  "language_info": {
   "codemirror_mode": {
    "name": "ipython",
    "version": 3
   },
   "file_extension": ".py",
   "mimetype": "text/x-python",
   "name": "python",
   "nbconvert_exporter": "python",
   "pygments_lexer": "ipython3",
   "version": "3.6.1"
  }
 },
 "nbformat": 4,
 "nbformat_minor": 2
}
