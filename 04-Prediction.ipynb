{
 "cells": [
  {
   "cell_type": "code",
   "execution_count": 1,
   "metadata": {
    "scrolled": true
   },
   "outputs": [
    {
     "name": "stderr",
     "output_type": "stream",
     "text": [
      "Using TensorFlow backend.\n"
     ]
    }
   ],
   "source": [
    "from __future__ import print_function\n",
    "import os\n",
    "import numpy as np\n",
    "from keras.models import Model\n",
    "from keras.layers import Input, Conv2D, MaxPooling2D, Conv2DTranspose, concatenate, BatchNormalization, Dropout\n",
    "from keras.optimizers import Adam\n",
    "from keras.callbacks import LearningRateScheduler, ModelCheckpoint, ReduceLROnPlateau, TensorBoard\n",
    "from keras import backend as K\n",
    "from keras.preprocessing.image import array_to_img, img_to_array, load_img\n",
    "from keras import losses, metrics\n",
    "import matplotlib.pyplot as plt"
   ]
  },
  {
   "cell_type": "code",
   "execution_count": 2,
   "metadata": {
    "collapsed": true
   },
   "outputs": [],
   "source": [
    "img_rows = 256\n",
    "img_cols = 256\n",
    "smooth = 1.\n",
    "holdout_image_dir = '/home/RGD/cleannpy/normalized/holdout/imgs/'"
   ]
  },
  {
   "cell_type": "code",
   "execution_count": 3,
   "metadata": {
    "collapsed": true
   },
   "outputs": [],
   "source": [
    "def predict(holdout_image_path):\n",
    "    \n",
    "    print('-'*30)\n",
    "    print('Compiling Model and Loading Weights...')\n",
    "    print('-'*30)\n",
    "    \n",
    "    model = get_unet()\n",
    "    model.load_weights('/home/RGD/3Scan_Image_Segmentation/Prediction-and-VIsualisation/fullmodel_2.h5')\n",
    "    \n",
    "    print('-'*30)\n",
    "    print('Processing Holdout Image...')\n",
    "    print('-'*30)\n",
    "    \n",
    "    holdout_img = np.load(holdout_image_path)\n",
    "    expanded_image = holdout_img[:, :, np.newaxis]\n",
    "    reshape_and_norm_image = reshape_and_normalize_face(expanded_image)\n",
    "    cropped_256npy_ordered = crop256(reshape_and_norm_image)\n",
    "    \n",
    "    print('-'*30)\n",
    "    print('Predicting and Saving as PNG...')\n",
    "    print('-'*30)\n",
    "    \n",
    "    predictedfullsizelist = []\n",
    "\n",
    "    for i in cropped_256npy_ordered:\n",
    "        batch_images = np.zeros((1, img_rows,img_cols,3))\n",
    "        batch_images[0]=i\n",
    "        predicted = model.predict(batch_images,verbose=1)\n",
    "        predictedfullsizelist.append(predicted[0])\n",
    "        \n",
    "    fullsized_predicted_image = reconstruct(predictedfullsizelist)\n",
    "    file_name = 'Predicted_'+str(holdout_image_path)[:-4]+'.png'\n",
    "    \n",
    "    plt.imsave(file_name, fullsized_predicted_image, cmap=plt.cm.gray)\n",
    "    \n",
    "    print('-'*30)\n",
    "    print(file_name+' Saved...')\n",
    "    print('-'*30)\n",
    "    \n",
    "    return fullsized_predicted_image\n",
    "    \n",
    "def dice_coef(y_true, y_pred):\n",
    "    y_true_f = K.flatten(y_true)\n",
    "    y_pred_f = K.flatten(y_pred)\n",
    "    intersection = K.sum(y_true_f * y_pred_f)\n",
    "    return (2. * intersection + smooth) / (K.sum(y_true_f) + K.sum(y_pred_f) + smooth)\n",
    "\n",
    "def dice_coef_loss(y_true, y_pred):\n",
    "    return -dice_coef(y_true, y_pred)\n",
    "\n",
    "def jacc_coef_int(y_true, y_pred):\n",
    "    y_pred_pos = K.round(K.clip(y_pred, 0, 1))\n",
    "    intersection = K.sum(y_true * y_pred_pos, axis=[0, -1, -2])\n",
    "    sum_ = K.sum(y_true + y_pred, axis=[0, -1, -2])\n",
    "    jac = (intersection + smooth) / (sum_ - intersection + smooth)\n",
    "    return K.mean(jac)\n",
    "\n",
    "def get_unet():\n",
    "    inputs = Input((img_rows, img_cols,3))\n",
    "    conv1 = Conv2D(64, (3, 3), activation='relu', padding='same')(inputs)\n",
    "    conv1 = Conv2D(64, (3, 3), activation='relu', padding='same')(conv1)\n",
    "    pool1 = MaxPooling2D(pool_size=(2, 2))(conv1)\n",
    "\n",
    "    conv2 = Conv2D(128, (3, 3), activation='relu', padding='same')(pool1)\n",
    "    conv2 = Conv2D(128, (3, 3), activation='relu', padding='same')(conv2)\n",
    "    pool2 = MaxPooling2D(pool_size=(2, 2))(conv2)\n",
    "\n",
    "    conv3 = Conv2D(256, (3, 3), activation='relu', padding='same')(pool2)\n",
    "    conv3 = Conv2D(256, (3, 3), activation='relu', padding='same')(conv3)\n",
    "    pool3 = MaxPooling2D(pool_size=(2, 2))(conv3)\n",
    "\n",
    "    conv4 = Conv2D(512, (3, 3), activation='relu', padding='same')(pool3)\n",
    "    conv4 = Conv2D(512, (3, 3), activation='relu', padding='same')(conv4)\n",
    "    pool4 = MaxPooling2D(pool_size=(2, 2))(conv4)\n",
    "\n",
    "    conv5 = Conv2D(1024, (3, 3), activation='relu', padding='same')(pool4)\n",
    "    conv5 = Conv2D(1024, (3, 3), activation='relu', padding='same')(conv5)\n",
    "    \n",
    "    up6 = concatenate([Conv2DTranspose(512, (2, 2), strides=(2, 2), padding='same')(conv5), conv4], axis=3)\n",
    "    conv6 = Conv2D(512, (3, 3), activation='relu', padding='same')(up6)\n",
    "    dropout1 = Dropout(0.5)(conv6)\n",
    "    conv6 = Conv2D(512, (3, 3), activation='relu', padding='same')(dropout1)\n",
    "\n",
    "    up7 = concatenate([Conv2DTranspose(256, (2, 2), strides=(2, 2), padding='same')(conv6), conv3], axis=3)    \n",
    "    conv7 = Conv2D(256, (3, 3), activation='relu', padding='same')(up7)\n",
    "    conv7 = Conv2D(256, (3, 3), activation='relu', padding='same')(conv7)\n",
    "\n",
    "    up8 = concatenate([Conv2DTranspose(128, (2, 2), strides=(2, 2), padding='same')(conv7), conv2], axis=3)\n",
    "    conv8 = Conv2D(128, (3, 3), activation='relu', padding='same')(up8)\n",
    "    conv8 = Conv2D(128, (3, 3), activation='relu', padding='same')(conv8)\n",
    "\n",
    "    up9 = concatenate([Conv2DTranspose(64, (2, 2), strides=(2, 2), padding='same')(conv8), conv1], axis=3)\n",
    "    conv9 = Conv2D(64, (3, 3), activation='relu', padding='same')(up9)\n",
    "    conv9 = Conv2D(64, (3, 3), activation='relu', padding='same')(conv9)\n",
    "    conv9 = BatchNormalization(axis = 1)(conv9)\n",
    "    dropout2 = Dropout(0.5)(conv9)\n",
    "    \n",
    "    conv10 = Conv2D(3, (1, 1), activation='sigmoid')(dropout2)\n",
    "    \n",
    "    model = Model(inputs=[inputs], outputs=[conv10])\n",
    "\n",
    "    model.compile(optimizer=Adam(lr=1e-5), \n",
    "                  loss=dice_coef_loss, metrics=[dice_coef,jacc_coef_int])\n",
    "\n",
    "    return model\n",
    "\n",
    "def reshape_and_normalize_face(face):\n",
    "    \n",
    "    shape0 = face.shape[0]//256 * 256\n",
    "    shape1 = face.shape[1]//256 * 256\n",
    "    \n",
    "    # get both to a shape divisible by 32\n",
    "    face = face[:shape0, :shape1, :]\n",
    "\n",
    "    \n",
    "    # rescale all numbers between 0 and 1\n",
    "\n",
    "    face = face.astype('float32')\n",
    "    for i in range(face.shape[2]):\n",
    "        face[:, :, i] = (face[:, :, i] - face[:, :, i].min())/ \\\n",
    "                                    (face[:, :, i].max() - face[:, :, i].min())\n",
    "\n",
    "    return face\n",
    "\n",
    "def crop256(stacked):\n",
    "    \n",
    "    size_crop = 256\n",
    "    i = 0\n",
    "    j = 0\n",
    "    \n",
    "    imgs = []\n",
    "\n",
    "    for i in range(0, stacked.shape[0], size_crop):\n",
    "        for j in range(0, stacked.shape[1], size_crop):\n",
    "            image = stacked[i:i+size_crop, j:j+size_crop, :]\n",
    "            imgs.append(image)\n",
    "    \n",
    "    return imgs\n",
    "\n",
    "def reconstruct(mask_list):\n",
    "            \n",
    "    rows = []\n",
    "    for i in range(0, len(mask_list), 32):\n",
    "        rows.append(np.concatenate(mask_list[i:i+32], axis = 1))\n",
    "\n",
    "    reconstructed = np.concatenate(rows, axis = 0)\n",
    "    \n",
    "    return reconstructed"
   ]
  },
  {
   "cell_type": "code",
   "execution_count": null,
   "metadata": {
    "collapsed": true
   },
   "outputs": [],
   "source": [
    "predict(holdout_image_dir)"
   ]
  },
  {
   "cell_type": "code",
   "execution_count": 102,
   "metadata": {},
   "outputs": [
    {
     "data": {
      "image/png": "[encoded data removed]",
      "text/plain": [
       "<matplotlib.figure.Figure at 0x7fd5565f3a90>"
      ]
     },
     "metadata": {},
     "output_type": "display_data"
    }
   ],
   "source": [
    "plt.imshow(fullsized_predicted_image)\n",
    "plt.show()"
   ]
  }
 ],
 "metadata": {
  "kernelspec": {
   "display_name": "Python 3",
   "language": "python",
   "name": "python3"
  },
  "language_info": {
   "codemirror_mode": {
    "name": "ipython",
    "version": 3
   },
   "file_extension": ".py",
   "mimetype": "text/x-python",
   "name": "python",
   "nbconvert_exporter": "python",
   "pygments_lexer": "ipython3",
   "version": "3.6.1"
  }
 },
 "nbformat": 4,
 "nbformat_minor": 2
}
